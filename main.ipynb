{
 "cells": [
  {
   "cell_type": "markdown",
   "metadata": {},
   "source": [
    "# Hackathon"
   ]
  },
  {
   "cell_type": "code",
   "execution_count": null,
   "metadata": {},
   "outputs": [],
   "source": [
    "import numpy as np\n",
    "import pandas as pd\n",
    "from matplotlib import pyplot as plt\n",
    "from prophet import Prophet\n"
   ]
  },
  {
   "cell_type": "code",
   "execution_count": null,
   "metadata": {},
   "outputs": [],
   "source": [
    "df = pd.read_csv('train/train_data.csv')\n",
    "df[\"MEASURED_IN_DATE\"] = pd.to_datetime(df[\"MEASURED_IN_DATE\"])\n",
    "df.info()"
   ]
  },
  {
   "cell_type": "code",
   "execution_count": null,
   "metadata": {},
   "outputs": [],
   "source": [
    "# rename cols for prophet\n",
    "df.rename(columns={\"MEASURED_IN_DATE\": \"ds\", \"LIQ_RATE\": \"y\"}, inplace=True)"
   ]
  },
  {
   "cell_type": "code",
   "execution_count": null,
   "metadata": {},
   "outputs": [],
   "source": [
    "# final dataframe for big image \n",
    "result = []\n",
    "# fit every well separately\n",
    "for i in range(len(df['WELL_NAME'].unique())):\n",
    "    dff = pd.DataFrame(df.loc[df['WELL_NAME']==df['WELL_NAME'].unique()[i]])\n",
    "\n",
    "    m = Prophet()\n",
    "\n",
    "    test_data_size = int(len(dff)*0.2)\n",
    "    \n",
    "    m.fit(dff[:-test_data_size]) # todo fix crash???\n",
    "    \n",
    "    future = m.make_future_dataframe(periods=test_data_size) #forecasting 365 days in future\n",
    "    forecast = m.predict(future)\n",
    "\n",
    "    result.append(pd.DataFrame(forecast))"
   ]
  },
  {
   "cell_type": "code",
   "execution_count": null,
   "metadata": {},
   "outputs": [],
   "source": [
    "plt.gcf().set_size_inches(20,4)\n",
    "plt.plot(df.y, linewidth = 0.5, color=\"black\")\n",
    "offset = 0\n",
    "for gr in result:\n",
    "    test_data_size = int(len(gr)*0.2)\n",
    "    plt.plot(gr.index[:int(len(gr)*0.8)]+offset, gr.yhat[:int(len(gr)*0.8)], linestyle = '--', linewidth=0.5, color=\"red\")\n",
    "    plt.plot(gr.index[int(len(gr)*0.8):]+offset, gr.yhat[int(len(gr)*0.8):], linestyle = '--', linewidth=1, color=\"green\")\n",
    "    offset += len(gr)\n",
    "plt.savefig(\"myplot.png\", dpi = 500)"
   ]
  },
  {
   "cell_type": "markdown",
   "metadata": {},
   "source": [
    "Next i try to fit prophet with all data and then forecast something, which didn't work"
   ]
  },
  {
   "cell_type": "code",
   "execution_count": null,
   "metadata": {},
   "outputs": [],
   "source": [
    "train_stop_name = df['WELL_NAME'][len(df)-int(len(df)*0.2)]\n",
    "train_stop_index = df.index[df['WELL_NAME'] == train_stop_name][0]\n",
    "train_stop_index"
   ]
  },
  {
   "cell_type": "code",
   "execution_count": null,
   "metadata": {},
   "outputs": [],
   "source": [
    "test_data_size = len(df)-train_stop_index\n",
    "test_data_size"
   ]
  },
  {
   "cell_type": "code",
   "execution_count": null,
   "metadata": {},
   "outputs": [],
   "source": [
    "m = Prophet()\n",
    "m.fit(df[:-test_data_size])"
   ]
  },
  {
   "cell_type": "code",
   "execution_count": null,
   "metadata": {},
   "outputs": [],
   "source": [
    "future = m.make_future_dataframe(periods = 120)\n",
    "forecast = m.predict(future)"
   ]
  },
  {
   "cell_type": "code",
   "execution_count": null,
   "metadata": {},
   "outputs": [],
   "source": [
    "forecast"
   ]
  },
  {
   "cell_type": "code",
   "execution_count": null,
   "metadata": {},
   "outputs": [],
   "source": [
    "#plt.plot(forecast[\"ds\"].values, forecast[\"trend\"].values)\n",
    "n=2000\n",
    "figure = plt.gcf()\n",
    "figure.set_size_inches(16, 9)\n",
    "grouped = df.groupby(\"WELL_NAME\")\n",
    "for name in df.WELL_NAME.unique():\n",
    "    plt.plot(grouped.get_group(name)[\"y\"])\n",
    "#np.datetime64(df[\"ds\"].values[0])\n",
    "#plt.show()"
   ]
  },
  {
   "cell_type": "code",
   "execution_count": null,
   "metadata": {},
   "outputs": [],
   "source": [
    "# Python\n",
    "def stan_init(m):\n",
    "    \"\"\"Retrieve parameters from a trained model.\n",
    "\n",
    "    Retrieve parameters from a trained model in the format\n",
    "    used to initialize a new Stan model.\n",
    "\n",
    "    Parameters\n",
    "    ----------\n",
    "    m: A trained model of the Prophet class.\n",
    "\n",
    "    Returns\n",
    "    -------\n",
    "    A Dictionary containing retrieved parameters of m.\n",
    "\n",
    "    \"\"\"\n",
    "    res = {}\n",
    "    for pname in ['k', 'm', 'sigma_obs']:\n",
    "        res[pname] = m.params[pname][0][0]\n",
    "    for pname in ['delta', 'beta']:\n",
    "        res[pname] = m.params[pname][0]\n",
    "    return res\n",
    "\n",
    "df = pd.read_csv('https://raw.githubusercontent.com/facebook/prophet/main/examples/example_wp_log_peyton_manning.csv')\n",
    "df.ds = pd.to_datetime(df.ds)\n",
    "df1 = df.loc[df['ds'] < '2014-01-19', :]  # All data except the last day\n",
    "m1 = Prophet(yearly_seasonality=True).fit(df1) # A model fit to all data except the last day\n",
    "\n"
   ]
  },
  {
   "cell_type": "code",
   "execution_count": null,
   "metadata": {},
   "outputs": [],
   "source": [
    "future = m1.make_future_dataframe(periods=365*2) #forecasting 365 days in future\n",
    "forecast = m1.predict(future)"
   ]
  },
  {
   "cell_type": "code",
   "execution_count": null,
   "metadata": {},
   "outputs": [],
   "source": [
    "plt.gcf().set_size_inches(20,4)\n",
    "plt.plot(df1.ds, df1.y)\n",
    "plt.plot(forecast.ds[len(df1):], forecast.yhat[len(df1):])"
   ]
  }
 ],
 "metadata": {
  "kernelspec": {
   "display_name": "Python 3.10.4 ('.venv': venv)",
   "language": "python",
   "name": "python3"
  },
  "language_info": {
   "codemirror_mode": {
    "name": "ipython",
    "version": 3
   },
   "file_extension": ".py",
   "mimetype": "text/x-python",
   "name": "python",
   "nbconvert_exporter": "python",
   "pygments_lexer": "ipython3",
   "version": "3.10.4"
  },
  "orig_nbformat": 4,
  "vscode": {
   "interpreter": {
    "hash": "59fe892a713502420346a5d114ea5a0555f181d57b26d9de7b86db426ab04fe4"
   }
  }
 },
 "nbformat": 4,
 "nbformat_minor": 2
}
