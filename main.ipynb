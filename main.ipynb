{
 "cells": [
  {
   "cell_type": "markdown",
   "metadata": {},
   "source": [
    "# Hackathon"
   ]
  },
  {
   "cell_type": "code",
   "execution_count": null,
   "metadata": {},
   "outputs": [],
   "source": [
    "import numpy as np\n",
    "import pandas as pd\n",
    "from matplotlib import pyplot as plt\n",
    "from prophet import Prophet\n"
   ]
  },
  {
   "cell_type": "code",
   "execution_count": null,
   "metadata": {},
   "outputs": [],
   "source": [
    "df = pd.read_csv('train/train_data.csv')\n",
    "df[\"MEASURED_IN_DATE\"] = pd.to_datetime(df[\"MEASURED_IN_DATE\"])\n",
    "df.info()"
   ]
  },
  {
   "cell_type": "code",
   "execution_count": null,
   "metadata": {},
   "outputs": [],
   "source": [
    "# rename cols for prophet\n",
    "df.rename(columns={\"MEASURED_IN_DATE\": \"ds\", \"LIQ_RATE\": \"y\"}, inplace=True)"
   ]
  },
  {
   "cell_type": "code",
   "execution_count": null,
   "metadata": {},
   "outputs": [],
   "source": [
    "def stan_init(m):\n",
    "    \"\"\"Retrieve parameters from a trained model.\n",
    "\n",
    "    Retrieve parameters from a trained model in the format\n",
    "    used to initialize a new Stan model.\n",
    "\n",
    "    Parameters\n",
    "    ----------\n",
    "    m: A trained model of the Prophet class.\n",
    "\n",
    "    Returns\n",
    "    -------\n",
    "    A Dictionary containing retrieved parameters of m.\n",
    "\n",
    "    \"\"\"\n",
    "    res = {}\n",
    "    for pname in ['k', 'm', 'sigma_obs']:\n",
    "        res[pname] = m.params[pname][0]\n",
    "    for pname in ['delta', 'beta']:\n",
    "        res[pname] = m.params[pname][0][0]\n",
    "    return res\n"
   ]
  },
  {
   "cell_type": "code",
   "execution_count": null,
   "metadata": {},
   "outputs": [],
   "source": [
    "# final dataframe for big image \n",
    "test = pd.DataFrame()\n",
    "\n",
    "# big image settings\n",
    "figure = plt.gcf()\n",
    "figure.set_size_inches(30, 2)\n",
    "\n",
    "m1 = Prophet()\n",
    "# fit every well separately\n",
    "for i in range(len(df['WELL_NAME'].unique())):\n",
    "    dff = pd.DataFrame(df.loc[df['WELL_NAME']==df['WELL_NAME'].unique()[i]])\n",
    "    m2 = Prophet()\n",
    "\n",
    "    test_data_size = int(len(dff)*0.2)\n",
    "    if i>0:\n",
    "        m2.fit(df[:test_data_size], init = stan_init(m1)) # todo fix crash???\n",
    "    else:\n",
    "        m2.fit(df[:test_data_size])\n",
    "    future = m2.make_future_dataframe(periods=test_data_size) #forecasting 365 days in future\n",
    "    forecast = m2.predict(future)\n",
    "\n",
    "    m1 = m2\n",
    "\n",
    "    test = pd.DataFrame(pd.concat([test,forecast], ignore_index=True))"
   ]
  },
  {
   "cell_type": "code",
   "execution_count": null,
   "metadata": {},
   "outputs": [],
   "source": [
    "plt.plot(df['y'], linewidth = 0.2)\n",
    "plt.plot(test['trend'], linewidth = 0.2, linestyle = '--')\n",
    "plt.savefig(\"myplot.png\", dpi = 1000)"
   ]
  },
  {
   "cell_type": "markdown",
   "metadata": {},
   "source": [
    "Next i try to fit prophet with all data and then forecast something, which didn't work"
   ]
  },
  {
   "cell_type": "code",
   "execution_count": null,
   "metadata": {},
   "outputs": [],
   "source": [
    "train_stop_name = df['WELL_NAME'][len(df)-int(len(df)*0.2)]\n",
    "train_stop_index = df.index[df['WELL_NAME'] == train_stop_name][0]\n",
    "train_stop_index"
   ]
  },
  {
   "cell_type": "code",
   "execution_count": null,
   "metadata": {},
   "outputs": [],
   "source": [
    "test_data_size = len(df)-train_stop_index\n",
    "test_data_size"
   ]
  },
  {
   "cell_type": "code",
   "execution_count": null,
   "metadata": {},
   "outputs": [],
   "source": [
    "m = Prophet()\n",
    "m.fit(df[:-test_data_size])"
   ]
  },
  {
   "cell_type": "code",
   "execution_count": null,
   "metadata": {},
   "outputs": [],
   "source": [
    "future = m.make_future_dataframe(periods = 120)\n",
    "forecast = m.predict(future)"
   ]
  },
  {
   "cell_type": "code",
   "execution_count": null,
   "metadata": {},
   "outputs": [],
   "source": [
    "forecast"
   ]
  },
  {
   "cell_type": "code",
   "execution_count": null,
   "metadata": {},
   "outputs": [],
   "source": [
    "#plt.plot(forecast[\"ds\"].values, forecast[\"trend\"].values)\n",
    "n=2000\n",
    "figure = plt.gcf()\n",
    "figure.set_size_inches(16, 9)\n",
    "grouped = df.groupby(\"WELL_NAME\")\n",
    "for name in df.WELL_NAME.unique():\n",
    "    plt.plot(grouped.get_group(name)[\"y\"])\n",
    "#np.datetime64(df[\"ds\"].values[0])\n",
    "#plt.show()"
   ]
  }
 ],
 "metadata": {
  "kernelspec": {
   "display_name": "Python 3.9.13 ('base')",
   "language": "python",
   "name": "python3"
  },
  "language_info": {
   "codemirror_mode": {
    "name": "ipython",
    "version": 3
   },
   "file_extension": ".py",
   "mimetype": "text/x-python",
   "name": "python",
   "nbconvert_exporter": "python",
   "pygments_lexer": "ipython3",
   "version": "3.9.13"
  },
  "orig_nbformat": 4,
  "vscode": {
   "interpreter": {
    "hash": "c4f92193806e2908606a5f23edd55a5282f2f433b73b1c504507f9256ed9f0b4"
   }
  }
 },
 "nbformat": 4,
 "nbformat_minor": 2
}
